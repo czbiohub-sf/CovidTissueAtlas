{
 "cells": [
  {
   "cell_type": "code",
   "execution_count": 1,
   "metadata": {},
   "outputs": [
    {
     "name": "stderr",
     "output_type": "stream",
     "text": [
      "/home/angela/anaconda3/lib/python3.7/site-packages/anndata/_core/anndata.py:21: FutureWarning: pandas.core.index is deprecated and will be removed in a future version.  The public classes are available in the top-level namespace.\n",
      "  from pandas.core.index import RangeIndex\n"
     ]
    }
   ],
   "source": [
    "import scanpy as sc\n",
    "sc.settings.verbosity = 3   "
   ]
  },
  {
   "cell_type": "code",
   "execution_count": 13,
   "metadata": {},
   "outputs": [],
   "source": [
    "import os\n",
    "dropseqfiles = os.listdir(\"/mnt/ibm_lg/angela/covid_tissue_atlas/covid_alignment/\")\n",
    "\n",
    "if adata:\n",
    "    del adata\n",
    "for f in dropseqfiles:\n",
    "    adataaux = sc.read_text(\"/mnt/ibm_lg/angela/covid_tissue_atlas/covid_alignment/\"+f).transpose()\n",
    "    try:\n",
    "        adata = adata.concatenate(adataaux,join='outer')\n",
    "    except:\n",
    "        adata = adataaux"
   ]
  },
  {
   "cell_type": "code",
   "execution_count": 14,
   "metadata": {},
   "outputs": [],
   "source": [
    "adata_covid = adata.copy()"
   ]
  },
  {
   "cell_type": "code",
   "execution_count": 15,
   "metadata": {},
   "outputs": [],
   "source": [
    "import os\n",
    "dropseqfiles = os.listdir(\"/mnt/ibm_lg/angela/covid_tissue_atlas/human_alignment/\")\n",
    "\n",
    "if adata:\n",
    "    del adata\n",
    "for f in dropseqfiles:\n",
    "    adataaux = sc.read_text(\"/mnt/ibm_lg/angela/covid_tissue_atlas/human_alignment/\"+f).transpose()\n",
    "    try:\n",
    "        adata = adata.concatenate(adataaux,join='outer')\n",
    "    except:\n",
    "        adata = adataaux"
   ]
  },
  {
   "cell_type": "code",
   "execution_count": 16,
   "metadata": {},
   "outputs": [],
   "source": [
    "adata_human = adata.copy()"
   ]
  },
  {
   "cell_type": "code",
   "execution_count": 17,
   "metadata": {},
   "outputs": [
    {
     "data": {
      "text/plain": [
       "(AnnData object with n_obs × n_vars = 2957 × 28233 \n",
       "     obs: 'batch', AnnData object with n_obs × n_vars = 3033 × 23402 \n",
       "     obs: 'batch')"
      ]
     },
     "execution_count": 17,
     "metadata": {},
     "output_type": "execute_result"
    }
   ],
   "source": [
    "adata_covid, adata_human"
   ]
  },
  {
   "cell_type": "code",
   "execution_count": 18,
   "metadata": {},
   "outputs": [
    {
     "data": {
      "text/html": [
       "<div>\n",
       "<style scoped>\n",
       "    .dataframe tbody tr th:only-of-type {\n",
       "        vertical-align: middle;\n",
       "    }\n",
       "\n",
       "    .dataframe tbody tr th {\n",
       "        vertical-align: top;\n",
       "    }\n",
       "\n",
       "    .dataframe thead th {\n",
       "        text-align: right;\n",
       "    }\n",
       "</style>\n",
       "<table border=\"1\" class=\"dataframe\">\n",
       "  <thead>\n",
       "    <tr style=\"text-align: right;\">\n",
       "      <th></th>\n",
       "    </tr>\n",
       "  </thead>\n",
       "  <tbody>\n",
       "    <tr>\n",
       "      <th>AACSP1</th>\n",
       "    </tr>\n",
       "    <tr>\n",
       "      <th>AATBC</th>\n",
       "    </tr>\n",
       "    <tr>\n",
       "      <th>ABCA11P</th>\n",
       "    </tr>\n",
       "    <tr>\n",
       "      <th>ABCA17P</th>\n",
       "    </tr>\n",
       "    <tr>\n",
       "      <th>ABCB10P1</th>\n",
       "    </tr>\n",
       "    <tr>\n",
       "      <th>...</th>\n",
       "    </tr>\n",
       "    <tr>\n",
       "      <th>RP11-325E14.2</th>\n",
       "    </tr>\n",
       "    <tr>\n",
       "      <th>BTF3P9</th>\n",
       "    </tr>\n",
       "    <tr>\n",
       "      <th>RP11-417N10.4</th>\n",
       "    </tr>\n",
       "    <tr>\n",
       "      <th>NDUFB8P2</th>\n",
       "    </tr>\n",
       "    <tr>\n",
       "      <th>RP11-1217F2.9</th>\n",
       "    </tr>\n",
       "  </tbody>\n",
       "</table>\n",
       "<p>6343 rows × 0 columns</p>\n",
       "</div>"
      ],
      "text/plain": [
       "Empty DataFrame\n",
       "Columns: []\n",
       "Index: [AACSP1, AATBC, ABCA11P, ABCA17P, ABCB10P1, AC000123.2, AC000367.1, AC000403.4, AC002310.10, AC002310.14, AC002366.1, AC002486.3, AC003973.3, AC003989.4, AC004076.5, AC004112.7, AC004386.4, AC004453.8, AC004854.5, AC004941.5, AC005077.7, AC005154.7, AC005255.5, AC005480.1, AC005517.3, AC005537.2, AC006042.8, AC006077.3, AC006115.6, AC006116.27, AC006128.2, AC006486.10, AC006548.28, AC006978.6, AC007050.18, AC007191.4, AC007238.1, AC007256.5, AC007318.5, AC007562.1, AC007906.1, AC008074.1, AC008079.10, AC008103.3, AC008155.1, AC008268.2, AC009120.11, AC009120.3, AC009133.23, AC009237.8, AC009245.3, AC009264.1, AC009502.1, AC009960.6, AC011239.2, AC012065.5, AC012066.1, AC012358.4, AC012501.3, AC015977.5, AC016700.4, AC017035.2, AC017078.1, AC018442.1, AC018712.2, AC018755.16, AC018804.6, AC018804.7, AC019097.7, AC020743.2, AC023115.2, AC024560.3, AC058791.1, AC063976.7, AC064850.4, AC067945.3, AC068042.1, AC073052.1, AC073055.2, AC073410.1, AC073465.2, AC074019.2, AC079776.2, AC079807.3, AC083899.1, AC083899.3, AC087380.14, AC091178.2, AC091492.2, AC092066.1, AC092638.1, AC093838.4, AC098592.7, AC098614.2, AC098824.6, AC103564.6, AC105921.5, AC107083.1, AC109815.2, AC110299.5, ...]\n",
       "\n",
       "[6343 rows x 0 columns]"
      ]
     },
     "execution_count": 18,
     "metadata": {},
     "output_type": "execute_result"
    }
   ],
   "source": [
    "adata_covid.var[~adata_covid.var_names.isin(adata_human.var_names)]"
   ]
  },
  {
   "cell_type": "code",
   "execution_count": null,
   "metadata": {},
   "outputs": [],
   "source": []
  },
  {
   "cell_type": "code",
   "execution_count": 11,
   "metadata": {},
   "outputs": [
    {
     "data": {
      "text/html": [
       "<div>\n",
       "<style scoped>\n",
       "    .dataframe tbody tr th:only-of-type {\n",
       "        vertical-align: middle;\n",
       "    }\n",
       "\n",
       "    .dataframe tbody tr th {\n",
       "        vertical-align: top;\n",
       "    }\n",
       "\n",
       "    .dataframe thead th {\n",
       "        text-align: right;\n",
       "    }\n",
       "</style>\n",
       "<table border=\"1\" class=\"dataframe\">\n",
       "  <thead>\n",
       "    <tr style=\"text-align: right;\">\n",
       "      <th></th>\n",
       "    </tr>\n",
       "  </thead>\n",
       "  <tbody>\n",
       "    <tr>\n",
       "      <th>ABCC10</th>\n",
       "    </tr>\n",
       "    <tr>\n",
       "      <th>AC016683.6</th>\n",
       "    </tr>\n",
       "    <tr>\n",
       "      <th>ACSS1</th>\n",
       "    </tr>\n",
       "    <tr>\n",
       "      <th>ADAM30</th>\n",
       "    </tr>\n",
       "    <tr>\n",
       "      <th>ADSL</th>\n",
       "    </tr>\n",
       "    <tr>\n",
       "      <th>...</th>\n",
       "    </tr>\n",
       "    <tr>\n",
       "      <th>WTIP</th>\n",
       "    </tr>\n",
       "    <tr>\n",
       "      <th>ZNF259</th>\n",
       "    </tr>\n",
       "    <tr>\n",
       "      <th>ZNF275</th>\n",
       "    </tr>\n",
       "    <tr>\n",
       "      <th>ZNF677</th>\n",
       "    </tr>\n",
       "    <tr>\n",
       "      <th>ZNF76</th>\n",
       "    </tr>\n",
       "  </tbody>\n",
       "</table>\n",
       "<p>126 rows × 0 columns</p>\n",
       "</div>"
      ],
      "text/plain": [
       "Empty DataFrame\n",
       "Columns: []\n",
       "Index: [ABCC10, AC016683.6, ACSS1, ADAM30, ADSL, AFAP1, AFAP1-AS1, AL009178.1, ALPK1, ANAPC7, ARHGAP5, ARHGEF12, ATP5O, BBS1, BRD3, BRPF1, BSDC1, C11orf48, C1orf222, C1orf51, C1orf63, C7orf63, C9orf3, CAPN2, CATSPERG, CBS, CDH6, CFLAR, CHD6, CNNM1, CORO1C, CTNS, CUL9, CXorf24, DCTN3, DCUN1D3, DYNLL1, EFNA2, ENTPD1, ERCC6, ESPL1, FAM186B, FAM83H, FOS, GAN, GGPS1, GLB1L3, GPR115, GPR56, GPRIN2, GTF2A1, HAT1, HDAC2, HELLS, HERC2, IDH3A, IGSF9B, ILF3, ITGA3, KANSL3, KIAA1107, LAMA1, LDLR, LINC00277, LONP2, MAPK1, MB21D2, MCC, MEIS2, MID1IP1, MIR29B1, MOB2, MPPE1, MPST, NPTN, NRBP2, NRXN3, NTPCR, ONECUT2, PCDH12, PDE1C, PLEKHA1, PLOD3, POTEC, PRDM15, PRODH, QRICH1, RAB30-AS1, RAB33B, RAPGEF2, RGS12, RNA28S5, RNF130, RNF5, RP11-106M3.2, RP11-111M22.2, RP11-168P8.5, RP11-305O6.3, RP11-50E11.3, RP11-67L2.2, ...]\n",
       "\n",
       "[126 rows x 0 columns]"
      ]
     },
     "execution_count": 11,
     "metadata": {},
     "output_type": "execute_result"
    }
   ],
   "source": [
    "adata_human.var[~adata_human.var_names.isin(adata_covid.var_names)]"
   ]
  },
  {
   "cell_type": "code",
   "execution_count": null,
   "metadata": {},
   "outputs": [],
   "source": []
  }
 ],
 "metadata": {
  "kernelspec": {
   "display_name": "Python 3",
   "language": "python",
   "name": "python3"
  },
  "language_info": {
   "codemirror_mode": {
    "name": "ipython",
    "version": 3
   },
   "file_extension": ".py",
   "mimetype": "text/x-python",
   "name": "python",
   "nbconvert_exporter": "python",
   "pygments_lexer": "ipython3",
   "version": "3.7.4"
  },
  "toc": {
   "base_numbering": 1,
   "nav_menu": {},
   "number_sections": true,
   "sideBar": true,
   "skip_h1_title": false,
   "title_cell": "Table of Contents",
   "title_sidebar": "Contents",
   "toc_cell": false,
   "toc_position": {},
   "toc_section_display": true,
   "toc_window_display": false
  }
 },
 "nbformat": 4,
 "nbformat_minor": 2
}
