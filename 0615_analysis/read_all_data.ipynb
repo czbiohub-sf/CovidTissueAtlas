{
 "cells": [
  {
   "cell_type": "code",
   "execution_count": 1,
   "metadata": {},
   "outputs": [
    {
     "name": "stderr",
     "output_type": "stream",
     "text": [
      "/home/angela/anaconda3/lib/python3.7/site-packages/anndata/_core/anndata.py:21: FutureWarning: pandas.core.index is deprecated and will be removed in a future version.  The public classes are available in the top-level namespace.\n",
      "  from pandas.core.index import RangeIndex\n"
     ]
    }
   ],
   "source": [
    "import scanpy as sc\n",
    "sc.settings.verbosity = 3   "
   ]
  },
  {
   "cell_type": "code",
   "execution_count": 4,
   "metadata": {},
   "outputs": [],
   "source": [
    "import os\n",
    "dropseqfiles = os.listdir(\"/mnt/ibm_lg/angela/covid_tissue_atlas/covid_alignment/\")\n",
    "\n",
    "if adata:\n",
    "    del adata\n",
    "for f in dropseqfiles:\n",
    "    adataaux = sc.read_text(\"/mnt/ibm_lg/angela/covid_tissue_atlas/covid_alignment/\"+f).transpose()\n",
    "    try:\n",
    "        adata = adata.concatenate(adataaux)\n",
    "    except:\n",
    "        adata = adataaux"
   ]
  },
  {
   "cell_type": "code",
   "execution_count": 5,
   "metadata": {},
   "outputs": [],
   "source": [
    "adata_covid = adata.copy()"
   ]
  },
  {
   "cell_type": "code",
   "execution_count": 6,
   "metadata": {},
   "outputs": [],
   "source": [
    "import os\n",
    "dropseqfiles = os.listdir(\"/mnt/ibm_lg/angela/covid_tissue_atlas/human_alignment/\")\n",
    "\n",
    "if adata:\n",
    "    del adata\n",
    "for f in dropseqfiles:\n",
    "    adataaux = sc.read_text(\"/mnt/ibm_lg/angela/covid_tissue_atlas/human_alignment/\"+f).transpose()\n",
    "    try:\n",
    "        adata = adata.concatenate(adataaux)\n",
    "    except:\n",
    "        adata = adataaux"
   ]
  },
  {
   "cell_type": "code",
   "execution_count": 7,
   "metadata": {},
   "outputs": [],
   "source": [
    "adata_human = adata.copy()"
   ]
  },
  {
   "cell_type": "code",
   "execution_count": 8,
   "metadata": {},
   "outputs": [
    {
     "data": {
      "text/plain": [
       "(AnnData object with n_obs × n_vars = 2957 × 1243 \n",
       "     obs: 'batch', AnnData object with n_obs × n_vars = 3033 × 1107 \n",
       "     obs: 'batch')"
      ]
     },
     "execution_count": 8,
     "metadata": {},
     "output_type": "execute_result"
    }
   ],
   "source": [
    "adata_covid, adata_human"
   ]
  },
  {
   "cell_type": "code",
   "execution_count": 10,
   "metadata": {},
   "outputs": [
    {
     "data": {
      "text/html": [
       "<div>\n",
       "<style scoped>\n",
       "    .dataframe tbody tr th:only-of-type {\n",
       "        vertical-align: middle;\n",
       "    }\n",
       "\n",
       "    .dataframe tbody tr th {\n",
       "        vertical-align: top;\n",
       "    }\n",
       "\n",
       "    .dataframe thead th {\n",
       "        text-align: right;\n",
       "    }\n",
       "</style>\n",
       "<table border=\"1\" class=\"dataframe\">\n",
       "  <thead>\n",
       "    <tr style=\"text-align: right;\">\n",
       "      <th></th>\n",
       "    </tr>\n",
       "  </thead>\n",
       "  <tbody>\n",
       "    <tr>\n",
       "      <th>AC006548.28</th>\n",
       "    </tr>\n",
       "    <tr>\n",
       "      <th>AC008079.10</th>\n",
       "    </tr>\n",
       "    <tr>\n",
       "      <th>AC009960.6</th>\n",
       "    </tr>\n",
       "    <tr>\n",
       "      <th>AC011239.2</th>\n",
       "    </tr>\n",
       "    <tr>\n",
       "      <th>AC023115.2</th>\n",
       "    </tr>\n",
       "    <tr>\n",
       "      <th>...</th>\n",
       "    </tr>\n",
       "    <tr>\n",
       "      <th>ZMYND8</th>\n",
       "    </tr>\n",
       "    <tr>\n",
       "      <th>ZNF264</th>\n",
       "    </tr>\n",
       "    <tr>\n",
       "      <th>ZNF562</th>\n",
       "    </tr>\n",
       "    <tr>\n",
       "      <th>ZNF70</th>\n",
       "    </tr>\n",
       "    <tr>\n",
       "      <th>ZPR1</th>\n",
       "    </tr>\n",
       "  </tbody>\n",
       "</table>\n",
       "<p>262 rows × 0 columns</p>\n",
       "</div>"
      ],
      "text/plain": [
       "Empty DataFrame\n",
       "Columns: []\n",
       "Index: [AC006548.28, AC008079.10, AC009960.6, AC011239.2, AC023115.2, AC058791.1, AC079776.2, AC093495.4, AC110620.2, ACSS3, ADAM10, ADAMTS9-AS2, ADCYAP1R1, ADGRF4, ADGRG1, AHR, AKAP13, ALOX12B, ANK2, ANKRD10, ANKRD11, ANKRD18EP, ANO1, ANO7P1, AP1M1, AQR, ARPC5, ATP2A1, ATP5A1, ATP5S, B3GALT5, BBC3, BRWD1, C12orf49, C14orf132, C17orf75, C18orf25, C1orf186, CCNY, CDH11, CDH7, CDK12, CDK5RAP2, CDKL1, CEP89, CERCAM, CFAP74, CHST1, CHST12, CIART, CLSTN2, CNKSR3, CNTNAP2, CPSF2, CRTC1, CRTC3, CTA-228A9.4, CTA-243E7.1, CTBP2, CTD-2206N4.4, CTD-2517M22.14, CTDP1, DDX3X, DGKG, DIP2A, DNAH7, DNMT3A, DOC2B, EFR3B, EMC10, EPB41, EPN1, ERCC-00073, EWSAT1, EZH1, FAM124A, FAM214B, FAM9C, FAT2, FBXO22, FBXO25, FEM1A, FOXG1, FOXN1, FREM3, FZD10-AS1, GABPB1-AS1, GABRB3, GALNT9, GANC, GAS7, GCNT3, GDF11, GDPGP1, GLG1, GNAI3, GNB5, GOLGA4, GPR155, GREB1, ...]\n",
       "\n",
       "[262 rows x 0 columns]"
      ]
     },
     "execution_count": 10,
     "metadata": {},
     "output_type": "execute_result"
    }
   ],
   "source": [
    "adata_covid.var[~adata_covid.var_names.isin(adata_human.var_names)]"
   ]
  },
  {
   "cell_type": "code",
   "execution_count": null,
   "metadata": {},
   "outputs": [],
   "source": []
  },
  {
   "cell_type": "code",
   "execution_count": 11,
   "metadata": {},
   "outputs": [
    {
     "data": {
      "text/html": [
       "<div>\n",
       "<style scoped>\n",
       "    .dataframe tbody tr th:only-of-type {\n",
       "        vertical-align: middle;\n",
       "    }\n",
       "\n",
       "    .dataframe tbody tr th {\n",
       "        vertical-align: top;\n",
       "    }\n",
       "\n",
       "    .dataframe thead th {\n",
       "        text-align: right;\n",
       "    }\n",
       "</style>\n",
       "<table border=\"1\" class=\"dataframe\">\n",
       "  <thead>\n",
       "    <tr style=\"text-align: right;\">\n",
       "      <th></th>\n",
       "    </tr>\n",
       "  </thead>\n",
       "  <tbody>\n",
       "    <tr>\n",
       "      <th>ABCC10</th>\n",
       "    </tr>\n",
       "    <tr>\n",
       "      <th>AC016683.6</th>\n",
       "    </tr>\n",
       "    <tr>\n",
       "      <th>ACSS1</th>\n",
       "    </tr>\n",
       "    <tr>\n",
       "      <th>ADAM30</th>\n",
       "    </tr>\n",
       "    <tr>\n",
       "      <th>ADSL</th>\n",
       "    </tr>\n",
       "    <tr>\n",
       "      <th>...</th>\n",
       "    </tr>\n",
       "    <tr>\n",
       "      <th>WTIP</th>\n",
       "    </tr>\n",
       "    <tr>\n",
       "      <th>ZNF259</th>\n",
       "    </tr>\n",
       "    <tr>\n",
       "      <th>ZNF275</th>\n",
       "    </tr>\n",
       "    <tr>\n",
       "      <th>ZNF677</th>\n",
       "    </tr>\n",
       "    <tr>\n",
       "      <th>ZNF76</th>\n",
       "    </tr>\n",
       "  </tbody>\n",
       "</table>\n",
       "<p>126 rows × 0 columns</p>\n",
       "</div>"
      ],
      "text/plain": [
       "Empty DataFrame\n",
       "Columns: []\n",
       "Index: [ABCC10, AC016683.6, ACSS1, ADAM30, ADSL, AFAP1, AFAP1-AS1, AL009178.1, ALPK1, ANAPC7, ARHGAP5, ARHGEF12, ATP5O, BBS1, BRD3, BRPF1, BSDC1, C11orf48, C1orf222, C1orf51, C1orf63, C7orf63, C9orf3, CAPN2, CATSPERG, CBS, CDH6, CFLAR, CHD6, CNNM1, CORO1C, CTNS, CUL9, CXorf24, DCTN3, DCUN1D3, DYNLL1, EFNA2, ENTPD1, ERCC6, ESPL1, FAM186B, FAM83H, FOS, GAN, GGPS1, GLB1L3, GPR115, GPR56, GPRIN2, GTF2A1, HAT1, HDAC2, HELLS, HERC2, IDH3A, IGSF9B, ILF3, ITGA3, KANSL3, KIAA1107, LAMA1, LDLR, LINC00277, LONP2, MAPK1, MB21D2, MCC, MEIS2, MID1IP1, MIR29B1, MOB2, MPPE1, MPST, NPTN, NRBP2, NRXN3, NTPCR, ONECUT2, PCDH12, PDE1C, PLEKHA1, PLOD3, POTEC, PRDM15, PRODH, QRICH1, RAB30-AS1, RAB33B, RAPGEF2, RGS12, RNA28S5, RNF130, RNF5, RP11-106M3.2, RP11-111M22.2, RP11-168P8.5, RP11-305O6.3, RP11-50E11.3, RP11-67L2.2, ...]\n",
       "\n",
       "[126 rows x 0 columns]"
      ]
     },
     "execution_count": 11,
     "metadata": {},
     "output_type": "execute_result"
    }
   ],
   "source": [
    "adata_human.var[~adata_human.var_names.isin(adata_covid.var_names)]"
   ]
  },
  {
   "cell_type": "code",
   "execution_count": null,
   "metadata": {},
   "outputs": [],
   "source": [
    "adata"
   ]
  },
  {
   "cell_type": "code",
   "execution_count": 12,
   "metadata": {},
   "outputs": [
    {
     "data": {
      "text/plain": [
       "Index(['ERCC6', 'ERVK3-1'], dtype='object')"
      ]
     },
     "execution_count": 12,
     "metadata": {},
     "output_type": "execute_result"
    }
   ],
   "source": [
    "adata.var_names[adata.var_names.str.startswith('ER')]"
   ]
  },
  {
   "cell_type": "code",
   "execution_count": null,
   "metadata": {},
   "outputs": [],
   "source": [
    "adata.obs"
   ]
  },
  {
   "cell_type": "code",
   "execution_count": null,
   "metadata": {},
   "outputs": [],
   "source": [
    "sc.pp.filter_cells(adata,min_counts=500)"
   ]
  },
  {
   "cell_type": "code",
   "execution_count": null,
   "metadata": {},
   "outputs": [],
   "source": [
    "adata"
   ]
  },
  {
   "cell_type": "code",
   "execution_count": null,
   "metadata": {},
   "outputs": [],
   "source": []
  }
 ],
 "metadata": {
  "kernelspec": {
   "display_name": "Python 3",
   "language": "python",
   "name": "python3"
  },
  "language_info": {
   "codemirror_mode": {
    "name": "ipython",
    "version": 3
   },
   "file_extension": ".py",
   "mimetype": "text/x-python",
   "name": "python",
   "nbconvert_exporter": "python",
   "pygments_lexer": "ipython3",
   "version": "3.7.4"
  },
  "toc": {
   "base_numbering": 1,
   "nav_menu": {},
   "number_sections": true,
   "sideBar": true,
   "skip_h1_title": false,
   "title_cell": "Table of Contents",
   "title_sidebar": "Contents",
   "toc_cell": false,
   "toc_position": {},
   "toc_section_display": true,
   "toc_window_display": false
  }
 },
 "nbformat": 4,
 "nbformat_minor": 2
}
