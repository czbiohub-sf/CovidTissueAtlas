{
 "cells": [
  {
   "cell_type": "markdown",
   "metadata": {
    "heading_collapsed": true
   },
   "source": [
    "# Alignment"
   ]
  },
  {
   "cell_type": "code",
   "execution_count": null,
   "metadata": {
    "hidden": true
   },
   "outputs": [],
   "source": [
    "import pandas as pd"
   ]
  },
  {
   "cell_type": "markdown",
   "metadata": {
    "hidden": true
   },
   "source": [
    "## Covid19 runs"
   ]
  },
  {
   "cell_type": "code",
   "execution_count": null,
   "metadata": {
    "hidden": true,
    "scrolled": true
   },
   "outputs": [],
   "source": [
    "!aws s3 ls s3://tabula-sapiens/covid19_tissue_atlas/"
   ]
  },
  {
   "cell_type": "code",
   "execution_count": null,
   "metadata": {
    "hidden": true
   },
   "outputs": [],
   "source": [
    "!aws s3 ls s3://tabula-sapiens/covid19_tissue_atlas/alignment-gencode-SARS/"
   ]
  },
  {
   "cell_type": "code",
   "execution_count": null,
   "metadata": {
    "hidden": true
   },
   "outputs": [],
   "source": [
    "covOct14 = [\n",
    "    \"Cov19-34-heart_nuclei/\",\n",
    "    \"Cov19-34-kidney_left_nuclei/\",\n",
    "    \"Cov19-34-liver_nuclei/\",\n",
    "    \"Cov19-36-heart_nuclei/\",\n",
    "    \"Cov19-36-kidney_left_nuclei/\",\n",
    "    \"Cov19-36-liver_nuclei/\",\n",
    "    \"Cov19-37-heart_nuclei/\",\n",
    "    \"Cov19-37-kidney_left_nuclei/\",\n",
    "    \"Cov19-37-liver_nuclei/\",\n",
    "    \"Cov19-38-heart_nuclei/\",\n",
    "    \"Cov19-38-kidney_left_nuclei/\",\n",
    "    \"Cov19-38-liver_nuclei/\",\n",
    "    \"Cov19-45-heart_nuclei/\",\n",
    "    \"Cov19-45-kidney_left_nuclei/\",\n",
    "    \"Cov19-45-liver_nuclei/\",\n",
    "    \"Cov19-46-heart_nuclei/\",\n",
    "    \"Cov19-46-kidney_left_nuclei/\",\n",
    "    \"Cov19-46-liver_nuclei/\"\n",
    "]"
   ]
  },
  {
   "cell_type": "code",
   "execution_count": null,
   "metadata": {
    "hidden": true,
    "scrolled": true
   },
   "outputs": [],
   "source": [
    "covOct14_runs = []\n",
    "for t in covOct14:\n",
    "#     print(t)\n",
    "    s1 = \"evros --branch tcr_bcr_10x alignment.run_10x_count --taxon homo.gencode.v30.ERCC.chrM.sarsCov2  --num_partitions 1 --partition_id 0 --s3_input_path \"\n",
    "    input_path = \"s3://tabula-sapiens/covid19_tissue_atlas/\"\n",
    "    out_path = \" --s3_output_path s3://tabula-sapiens/covid19_tissue_atlas/alignment-gencode-SARS/\"\n",
    "    trun = s1+input_path+t+out_path+t\n",
    "    covOct14_runs.append(trun)\n",
    "pd.DataFrame(covOct14_runs).to_csv('covOct14_runs.csv')\n",
    "# covOct14_runs\n"
   ]
  },
  {
   "cell_type": "code",
   "execution_count": null,
   "metadata": {
    "hidden": true
   },
   "outputs": [],
   "source": [
    "covOct14_runs = []\n",
    "for t in covOct14:\n",
    "#     print(t)\n",
    "    s1 = \"evros --branch tcr_bcr_10x alignment.run_10x_count --taxon SARS.GRCh38_genome --num_partitions 1 --partition_id 0 --s3_input_path \"\n",
    "    input_path = \"s3://tabula-sapiens/covid19_tissue_atlas/\"\n",
    "    out_path = \" --s3_output_path s3://tabula-sapiens/covid19_tissue_atlas/alignment-SARS_GRCh38/\"\n",
    "    trun = s1+input_path+t+out_path+t\n",
    "    covOct14_runs.append(trun)\n",
    "pd.DataFrame(covOct14_runs).to_csv('covOct14_runs_GChr38.csv')\n",
    "# covOct14_runs"
   ]
  },
  {
   "cell_type": "markdown",
   "metadata": {
    "hidden": true
   },
   "source": [
    "### TSP1 SS2"
   ]
  },
  {
   "cell_type": "code",
   "execution_count": null,
   "metadata": {
    "hidden": true
   },
   "outputs": [],
   "source": [
    "s3://tabula-sapiens/Pilot1/fastqs/smartseq2/pilot/B107809_A10_S130/B107809_A10_S130_R1_001.fastq.gz"
   ]
  },
  {
   "cell_type": "code",
   "execution_count": null,
   "metadata": {
    "hidden": true
   },
   "outputs": [],
   "source": [
    "aws_star homo.gencode.v30.ERCC.chrM 100 s3://tabula-sapiens/Pilot1/fastqs/smartseq2/pilot/ --s3_output_path s3://tabula-sapiens/Pilot1/alignment-gencode/SS2 > tsp1_re_align_homogencodev30ERCCchrM.sh\n",
    "        \n",
    "        \n",
    "        \n",
    "        "
   ]
  },
  {
   "cell_type": "markdown",
   "metadata": {
    "heading_collapsed": true,
    "hidden": true
   },
   "source": [
    "## TSP2 10X"
   ]
  },
  {
   "cell_type": "markdown",
   "metadata": {
    "heading_collapsed": true,
    "hidden": true
   },
   "source": [
    "### concat 10X fastq for nextseq"
   ]
  },
  {
   "cell_type": "code",
   "execution_count": null,
   "metadata": {
    "hidden": true
   },
   "outputs": [],
   "source": [
    "import os\n",
    "os.listdir('/mnt/ibm_lg/angela/sapiens/TSP2/nextseq10X/')"
   ]
  },
  {
   "cell_type": "code",
   "execution_count": null,
   "metadata": {
    "hidden": true
   },
   "outputs": [],
   "source": [
    "! cat file*.fastq > bigfile.fastq"
   ]
  },
  {
   "cell_type": "code",
   "execution_count": null,
   "metadata": {
    "hidden": true
   },
   "outputs": [],
   "source": [
    "! cat /mnt/ibm_lg/angela/sapiens/TSP2/nextseq10X/TSP2_Vasculature_Aorta_10X_2_2/*/*_R1_001.fastq.gz > /mnt/ibm_lg/angela/sapiens/TSP2/nextseq10X/TSP2_Vasculature_Aorta_10X_2_2/TSP2_Vasculature_Aorta_10X_2_2_S1_L001_R1_001.fastq.gz\n",
    "! cat /mnt/ibm_lg/angela/sapiens/TSP2/nextseq10X/TSP2_Vasculature_Aorta_10X_2_2/*/*_R2_001.fastq.gz > /mnt/ibm_lg/angela/sapiens/TSP2/nextseq10X/TSP2_Vasculature_Aorta_10X_2_2/TSP2_Vasculature_Aorta_10X_2_2_S1_L001_R2_001.fastq.gz\n",
    "\n",
    "! cat /mnt/ibm_lg/angela/sapiens/TSP2/nextseq10X/TSP2_Blood_NA_10X_1_1_SheelaPrep/*/*_R1_001.fastq.gz > /mnt/ibm_lg/angela/sapiens/TSP2/nextseq10X/TSP2_Blood_NA_10X_1_1_SheelaPrep/TSP2_Blood_NA_10X_1_1_SheelaPrep_S1_L001_R1_001.fastq.gz\n",
    "! cat /mnt/ibm_lg/angela/sapiens/TSP2/nextseq10X/TSP2_Blood_NA_10X_1_1_SheelaPrep/*/*_R2_001.fastq.gz > /mnt/ibm_lg/angela/sapiens/TSP2/nextseq10X/TSP2_Blood_NA_10X_1_1_SheelaPrep/TSP2_Blood_NA_10X_1_1_SheelaPrep_S1_L001_R2_001.fastq.gz\n",
    "\n",
    "! cat /mnt/ibm_lg/angela/sapiens/TSP2/nextseq10X/TSP2_Blood_NA_10X_1_2_SheelaPrep/*/*_R1_001.fastq.gz > /mnt/ibm_lg/angela/sapiens/TSP2/nextseq10X/TSP2_Blood_NA_10X_1_2_SheelaPrep/TSP2_Blood_NA_10X_1_2_SheelaPrep_S1_L001_R1_001.fastq.gz\n",
    "! cat /mnt/ibm_lg/angela/sapiens/TSP2/nextseq10X/TSP2_Blood_NA_10X_1_2_SheelaPrep/*/*_R2_001.fastq.gz > /mnt/ibm_lg/angela/sapiens/TSP2/nextseq10X/TSP2_Blood_NA_10X_1_2_SheelaPrep/TSP2_Blood_NA_10X_1_2_SheelaPrep_S1_L001_R2_001.fastq.gz\n",
    "\n",
    "! cat /mnt/ibm_lg/angela/sapiens/TSP2/nextseq10X/TSP2_Skin_abdomen_10X_2_1/*/*_R1_001.fastq.gz > /mnt/ibm_lg/angela/sapiens/TSP2/nextseq10X/TSP2_Skin_abdomen_10X_2_1/TSP2_Skin_abdomen_10X_2_1_S1_L001_R1_001.fastq.gz\n",
    "! cat /mnt/ibm_lg/angela/sapiens/TSP2/nextseq10X/TSP2_Skin_abdomen_10X_2_1/*/*_R2_001.fastq.gz > /mnt/ibm_lg/angela/sapiens/TSP2/nextseq10X/TSP2_Skin_abdomen_10X_2_1/TSP2_Skin_abdomen_10X_2_1_S1_L001_R2_001.fastq.gz\n",
    "\n",
    "! cat /mnt/ibm_lg/angela/sapiens/TSP2/nextseq10X/TSP2_Skin_abdomen_10X_1_1/*/*_R1_001.fastq.gz > /mnt/ibm_lg/angela/sapiens/TSP2/nextseq10X/TSP2_Skin_abdomen_10X_1_1/TSP2_Skin_abdomen_10X_1_1_S1_L001_R1_001.fastq.gz\n",
    "! cat /mnt/ibm_lg/angela/sapiens/TSP2/nextseq10X/TSP2_Skin_abdomen_10X_1_1/*/*_R2_001.fastq.gz > /mnt/ibm_lg/angela/sapiens/TSP2/nextseq10X/TSP2_Skin_abdomen_10X_1_1/TSP2_Skin_abdomen_10X_1_1_S1_L001_R2_001.fastq.gz\n",
    "\n",
    "! cat /mnt/ibm_lg/angela/sapiens/TSP2/nextseq10X/TSP2_Vasculature_Aorta_10X_2_1/*/*_R1_001.fastq.gz > /mnt/ibm_lg/angela/sapiens/TSP2/nextseq10X/TSP2_Vasculature_Aorta_10X_2_1/TSP2_Vasculature_Aorta_10X_2_1_S1_L001_R1_001.fastq.gz\n",
    "! cat /mnt/ibm_lg/angela/sapiens/TSP2/nextseq10X/TSP2_Vasculature_Aorta_10X_2_1/*/*_R2_001.fastq.gz > /mnt/ibm_lg/angela/sapiens/TSP2/nextseq10X/TSP2_Vasculature_Aorta_10X_2_1/TSP2_Vasculature_Aorta_10X_2_1_S1_L001_R2_001.fastq.gz\n",
    "\n",
    "! cat /mnt/ibm_lg/angela/sapiens/TSP2/nextseq10X/TSP2_Fat_SCAT_10X_1_1/*/*_R1_001.fastq.gz > /mnt/ibm_lg/angela/sapiens/TSP2/nextseq10X/TSP2_Fat_SCAT_10X_1_1/TSP2_Fat_SCAT_10X_1_1_S1_L001_R1_001.fastq.gz\n",
    "! cat /mnt/ibm_lg/angela/sapiens/TSP2/nextseq10X/TSP2_Fat_SCAT_10X_1_1/*/*_R2_001.fastq.gz > /mnt/ibm_lg/angela/sapiens/TSP2/nextseq10X/TSP2_Fat_SCAT_10X_1_1/TSP2_Fat_SCAT_10X_1_1_S1_L001_R2_001.fastq.gz\n",
    "\n",
    "! cat /mnt/ibm_lg/angela/sapiens/TSP2/nextseq10X/TSP2_Fat_MAT_10X_1_1/*/*_R1_001.fastq.gz > /mnt/ibm_lg/angela/sapiens/TSP2/nextseq10X/TSP2_Fat_MAT_10X_1_1/TSP2_Fat_MAT_10X_1_1_S1_L001_R1_001.fastq.gz\n",
    "! cat /mnt/ibm_lg/angela/sapiens/TSP2/nextseq10X/TSP2_Fat_MAT_10X_1_1/*/*_R2_001.fastq.gz > /mnt/ibm_lg/angela/sapiens/TSP2/nextseq10X/TSP2_Fat_MAT_10X_1_1/TSP2_Fat_MAT_10X_1_1_S1_L001_R2_001.fastq.gz\n",
    "\n",
    "\n",
    "aws s3 sync /mnt/ibm_lg/angela/sapiens/TSP2/nextseq10X/ s3://tabula-sapiens/Pilot2/nextseq_run_200310_NS500126_0014_AHM3M3BGXC/concatenated_files/ --exclude \"*\" --include \"*/*_S1_L001_R*_001.fastq.gz\" --dryrun\n",
    "\n",
    "#  'TSP2_Blood_NA_10X_1_1_SheelaPrep',\n",
    "#  'TSP2_Blood_NA_10X_1_2_SheelaPrep',\n",
    "#  'TSP2_Skin_abdomen_10X_2_1',\n",
    "#  'TSP2_Skin_abdomen_10X_1_1',\n",
    "#  'TSP2_Vasculature_Aorta_10X_2_1',\n",
    "#  'TSP2_Fat_SCAT_10X_1_1',\n",
    "#  'TSP2_Fat_MAT_10X_1_1\n",
    "\n",
    "\n",
    "evros alignment.10x_count --taxon homo.gencode.v30.ERCC.chrM --s3_input_dir s3://tabula-sapiens/Pilot2/nextseq_run_200310_NS500126_0014_AHM3M3BGXC/concatenated_files/ --s3_output_dir s3://tabula-sapiens/Pilot2/10X/ --dry-run\n",
    "\n",
    "\n"
   ]
  },
  {
   "cell_type": "code",
   "execution_count": null,
   "metadata": {
    "hidden": true
   },
   "outputs": [],
   "source": [
    "for d in os.listdir('/mnt/ibm_lg/angela/sapiens/TSP2/nextseq10X/')[0:1]:\n",
    "    r1 = []\n",
    "    r2 = []\n",
    "    for f in os.listdir('/mnt/ibm_lg/angela/sapiens/TSP2/nextseq10X/'+d):\n",
    "        faux = os.listdir('/mnt/ibm_lg/angela/sapiens/TSP2/nextseq10X/'+d+'/'+f)\n",
    "        faux.sort()\n",
    "        f1 = faux[0]\n",
    "        f2 = faux[1]\n",
    "        \n",
    "        r1.append(f1)\n",
    "        r2.append(f2)\n",
    "        \n",
    "    print(r1)\n",
    "    ! cat file*.fastq > bigfile.fastq\n",
    "    \n",
    "bigfile1 = d+'_S1_L001_R1_001.fastq.gz'\n",
    "bigfile2 = d+'_S1_L001_R2_001.fastq.gz'\n",
    "TSP1_blood_1_redo_S1_L001_R1_001.fastq.gz"
   ]
  },
  {
   "cell_type": "markdown",
   "metadata": {
    "hidden": true
   },
   "source": [
    "### put novaseq rerun samples into folders"
   ]
  },
  {
   "cell_type": "code",
   "execution_count": null,
   "metadata": {
    "hidden": true
   },
   "outputs": [],
   "source": [
    "import os\n",
    "fastqlist = os.listdir(\"/mnt/ibm_lg/angela/sapiens/TSP2_NovaSeq_ReRun\")"
   ]
  },
  {
   "cell_type": "code",
   "execution_count": null,
   "metadata": {
    "hidden": true,
    "scrolled": true
   },
   "outputs": [],
   "source": [
    "a = next(os.walk(\"/mnt/ibm_lg/angela/sapiens/TSP2_NovaSeq_ReRun\"))[1]\n",
    "a.sort()\n",
    "a"
   ]
  },
  {
   "cell_type": "code",
   "execution_count": null,
   "metadata": {
    "hidden": true
   },
   "outputs": [],
   "source": [
    "fastqlist = list(set(fastqlist) - set(next(os.walk(\"/mnt/ibm_lg/angela/sapiens/TSP2_NovaSeq_ReRun\"))[1]))"
   ]
  },
  {
   "cell_type": "code",
   "execution_count": null,
   "metadata": {
    "hidden": true,
    "scrolled": false
   },
   "outputs": [],
   "source": [
    "prefixs = [f.rsplit(\"_\",4)[0] for f in fastqlist]\n",
    "len(prefixs),len(set(prefixs))"
   ]
  },
  {
   "cell_type": "code",
   "execution_count": null,
   "metadata": {
    "hidden": true
   },
   "outputs": [],
   "source": [
    "for p in set(prefixs):\n",
    "    pdir = \"/mnt/ibm_lg/angela/sapiens/TSP2_NovaSeq_ReRun/\"\n",
    "    \n",
    "    path = os.path.join(pdir,p) \n",
    "    os.mkdir(path)\n"
   ]
  },
  {
   "cell_type": "code",
   "execution_count": null,
   "metadata": {
    "hidden": true
   },
   "outputs": [],
   "source": [
    "pdir = \"/mnt/ibm_lg/angela/sapiens/TSP2_NovaSeq_ReRun/\"\n",
    "\n",
    "for f in fastqlist:\n",
    "    faux = f.rsplit(\"_\",4)[0]\n",
    "    oldpath = os.path.join(pdir,f)\n",
    "    newpath = os.path.join(os.path.join(pdir,faux),f)\n",
    "    \n",
    "    os.rename(oldpath,newpath)\n",
    "\n",
    "    "
   ]
  },
  {
   "cell_type": "code",
   "execution_count": null,
   "metadata": {
    "hidden": true
   },
   "outputs": [],
   "source": []
  },
  {
   "cell_type": "code",
   "execution_count": null,
   "metadata": {
    "hidden": true
   },
   "outputs": [],
   "source": [
    "# ! aws s3 sync /mnt/ibm_lg/angela/sapiens/TSP2_NovaSeq_ReRun/ s3://tabula-sapiens/Pilot2/fastqs/10X/NovaSeq_ReRun_Folders/ --dryrun\n",
    "    \n",
    "    \n",
    "    "
   ]
  },
  {
   "cell_type": "markdown",
   "metadata": {
    "heading_collapsed": true,
    "hidden": true
   },
   "source": [
    "### alignment code"
   ]
  },
  {
   "cell_type": "code",
   "execution_count": null,
   "metadata": {
    "hidden": true
   },
   "outputs": [],
   "source": [
    "import os\n",
    "tsp2dirs = os.listdir(\"/mnt/ibm_lg/angela/sapiens/TSP2_NovaSeq_ReRun\")\n",
    "tsp2dirs"
   ]
  },
  {
   "cell_type": "code",
   "execution_count": null,
   "metadata": {
    "hidden": true
   },
   "outputs": [],
   "source": [
    "tsp2_runs = []\n",
    "for t in tsp2dirs:\n",
    "    s1 = \"evros alignment.10x_count --taxon homo.gencode.v30.ERCC.chrM --s3_input_dir \"\n",
    "    input_path = \"s3://tabula-sapiens/Pilot2/fastqs/10X/NovaSeq_ReRun_Folders/\"\n",
    "    out_path = \" --s3_output_dir s3://tabula-sapiens/Pilot2/alignment-gencode/10X/\"\n",
    "    trun = s1+input_path+t+out_path+t\n",
    "    tsp2_runs.append(trun)\n",
    "pd.DataFrame(tsp2_runs).to_csv('tsp2_runs.csv')\n",
    "tsp2_runs"
   ]
  },
  {
   "cell_type": "markdown",
   "metadata": {
    "heading_collapsed": true,
    "hidden": true
   },
   "source": [
    "## hPB"
   ]
  },
  {
   "cell_type": "code",
   "execution_count": null,
   "metadata": {
    "hidden": true
   },
   "outputs": [],
   "source": [
    "import os\n",
    "hpbfastqlist = os.listdir(\"/mnt/ibm_lg/angela/sapiens/hPB/reads/\")\n",
    "hpbfastqlist[:6]"
   ]
  },
  {
   "cell_type": "code",
   "execution_count": null,
   "metadata": {
    "hidden": true
   },
   "outputs": [],
   "source": [
    "f.split(\"-trimmed-pair2\",1)"
   ]
  },
  {
   "cell_type": "code",
   "execution_count": null,
   "metadata": {
    "hidden": true,
    "scrolled": true
   },
   "outputs": [],
   "source": [
    "odir = \"/mnt/ibm_lg/angela/sapiens/hPB/reads/\"\n",
    "ndir = \"/mnt/ibm_lg/angela/sapiens/hPB/fastqs\"\n",
    "\n",
    "for f in hpbfastqlist:\n",
    "    \n",
    "    faux = f.split(\"-trimmed-pair1\")[0]\n",
    "    if faux != f:\n",
    "        oldpath = os.path.join(odir,f)\n",
    "        newpath = os.path.join(ndir,faux+\"_A1_S111_R1_001.fastq.gz\")\n",
    "#         print(newpath)\n",
    "        os.rename(oldpath,newpath)\n",
    "    else:\n",
    "        faux = f.split(\"-trimmed-pair2\")[0]\n",
    "        if faux !=f:\n",
    "            oldpath = os.path.join(odir,f)\n",
    "            newpath = os.path.join(ndir,faux+\"_A1_S111_R2_001.fastq.gz\")\n",
    "#             print(newpath)\n",
    "            os.rename(oldpath,newpath)\n",
    "        else:\n",
    "            print(\"ignoring log file\")\n",
    "        \n",
    "    "
   ]
  },
  {
   "cell_type": "markdown",
   "metadata": {},
   "source": [
    "# General import functions"
   ]
  },
  {
   "cell_type": "code",
   "execution_count": null,
   "metadata": {
    "scrolled": true
   },
   "outputs": [],
   "source": [
    "import numpy as np\n",
    "import pandas as pd\n",
    "import seaborn as sns\n",
    "import matplotlib.pyplot as plt\n",
    "# import csv\n",
    "\n",
    "import scanpy as sc\n",
    "sc.settings.verbosity = 3             # verbosity: errors (0), warnings (1), info (2), hints (3)\n",
    "\n",
    "# from igraph import *\n",
    "from MulticoreTSNE import MulticoreTSNE as TSNE #faster TSNE alternative\n",
    "# from anndata import read_h5ad\n",
    "# from anndata import read_csv\n",
    "# import anndata\n",
    "\n",
    "# sc.logging.print_versions()"
   ]
  },
  {
   "cell_type": "code",
   "execution_count": null,
   "metadata": {},
   "outputs": [],
   "source": [
    "pwd"
   ]
  },
  {
   "cell_type": "markdown",
   "metadata": {},
   "source": [
    "# Metadata"
   ]
  },
  {
   "cell_type": "code",
   "execution_count": null,
   "metadata": {},
   "outputs": [],
   "source": [
    "metadata = pd.read_excel(\"20201015_Cov19_nuclei_biodata.xlsx\")\n",
    "metadata.head()"
   ]
  },
  {
   "cell_type": "code",
   "execution_count": null,
   "metadata": {},
   "outputs": [],
   "source": [
    "metadata['Sample_ID'] = metadata['Sample_ID'].str.replace(\".\", '')\n",
    "set(metadata['Sample_ID'])"
   ]
  },
  {
   "cell_type": "code",
   "execution_count": null,
   "metadata": {},
   "outputs": [],
   "source": [
    "set(metadata['Sample_ID'])"
   ]
  },
  {
   "cell_type": "markdown",
   "metadata": {
    "heading_collapsed": true
   },
   "source": [
    "# Load the data gencode alignment"
   ]
  },
  {
   "cell_type": "markdown",
   "metadata": {
    "hidden": true
   },
   "source": [
    "List all the data available"
   ]
  },
  {
   "cell_type": "code",
   "execution_count": null,
   "metadata": {
    "hidden": true
   },
   "outputs": [],
   "source": [
    "data_path = '/mnt/ibm_lg/angela/covid_tissue_atlas/sn10x/gencode/'"
   ]
  },
  {
   "cell_type": "code",
   "execution_count": null,
   "metadata": {
    "hidden": true
   },
   "outputs": [],
   "source": [
    "import os\n",
    "data_folders = os.listdir(data_path)\n",
    "display(data_folders)\n"
   ]
  },
  {
   "cell_type": "code",
   "execution_count": null,
   "metadata": {
    "hidden": true,
    "scrolled": false
   },
   "outputs": [],
   "source": [
    "adata = sc.AnnData()\n",
    "\n",
    "for d in data_folders:\n",
    "    print(d)\n",
    "    runs = os.listdir(data_path+d)\n",
    "    \n",
    "    for r in runs:\n",
    "\n",
    "        print(r)\n",
    "        adataaux = sc.read_10x_mtx(data_path+d+\"/\"+r+'/filtered_feature_bc_matrix/',cache=True,var_names='gene_ids')\n",
    "        bfcmingenes = adataaux.shape[0]\n",
    "#         sc.pp.filter_cells(adataaux, min_genes=200)\n",
    "#         sc.pp.filter_cells(adataaux, min_counts=2500)\n",
    "\n",
    "#         sc.pp.filter_cells(adataaux, min_genes=1)\n",
    "#         sc.pp.filter_cells(adataaux, min_counts=1)\n",
    "#         sc.pp.filter_genes(adataaux, min_cells=0)\n",
    "\n",
    "\n",
    "        print(d+ \" size\")\n",
    "        display(adataaux.shape)\n",
    "\n",
    "        adataaux.obs['10X_run'] = d\n",
    "\n",
    "        try: \n",
    "            adataaux.obs['sample_type'] = d.split('_')[3] \n",
    "            adataaux.obs['disease_status'] = d.split('_')[0]  \n",
    "            adataaux.obs['lab'] = d.split('_')[1]  \n",
    "            adataaux.obs['tissue'] = str.lower(d.split('_')[2])\n",
    "        \n",
    "        except: \n",
    "            adataaux.obs['sample_type'] = d.split('-')[2].split('_')[1] \n",
    "            adataaux.obs['disease_status'] = d.split('-')[0]  \n",
    "            adataaux.obs['lab'] = d.split('-')[1]  \n",
    "            adataaux.obs['tissue'] = str.lower(d.split('-')[2].split('_')[0])\n",
    "\n",
    "\n",
    "        try:\n",
    "            adataaux.obs['replicate'] = d.split('_')[4]\n",
    "        except:\n",
    "            adataaux.obs['replicate'] = 1\n",
    "\n",
    "        try:\n",
    "            adata = adata.concatenate(adataaux,join='outer')\n",
    "            adata.obs = adata.obs.drop('batch',axis=1)\n",
    "        except:\n",
    "            adata = adataaux.copy()\n",
    "\n",
    "# adata.obs['sex'] = 'female'\n",
    "adata.obs['sequence_run'] = 'NovaSeq_CZBSeqSub03539'\n",
    "# adata.write(\"/mnt/ibm_lg/angela/-min_genes_200-min_reads_2500.h5ad\")\n",
    "adata.raw = adata.copy()\n",
    "\n",
    "sc.pp.filter_cells(adata, min_genes=0)\n",
    "sc.pp.filter_cells(adata, min_counts=0)\n",
    "sc.pp.filter_genes(adata, min_cells=0)\n",
    "\n",
    "adata_gencode = adata.copy()\n",
    "adata"
   ]
  },
  {
   "cell_type": "code",
   "execution_count": null,
   "metadata": {
    "hidden": true
   },
   "outputs": [],
   "source": [
    "adata"
   ]
  },
  {
   "cell_type": "code",
   "execution_count": null,
   "metadata": {
    "hidden": true
   },
   "outputs": [],
   "source": [
    "def remove_cats(adata):\n",
    "\n",
    "    cat_columns = adata.obs.select_dtypes(['category']).columns\n",
    "    adata.obs[cat_columns] = adata.obs[cat_columns].astype(str)\n",
    "    \n",
    "    return adata\n",
    "\n",
    "adata = remove_cats(adata)"
   ]
  },
  {
   "cell_type": "code",
   "execution_count": null,
   "metadata": {
    "hidden": true
   },
   "outputs": [],
   "source": [
    "adata.obs.groupby(['disease_status','tissue','10X_run']).count()#['sequence_run']"
   ]
  },
  {
   "cell_type": "code",
   "execution_count": null,
   "metadata": {
    "hidden": true
   },
   "outputs": [],
   "source": [
    "adata.var.tail()"
   ]
  },
  {
   "cell_type": "code",
   "execution_count": null,
   "metadata": {
    "hidden": true
   },
   "outputs": [],
   "source": [
    "adata.var[adata.var['gene_symbols'].isin([\"ACE2\"])]"
   ]
  },
  {
   "cell_type": "code",
   "execution_count": null,
   "metadata": {
    "hidden": true
   },
   "outputs": [],
   "source": [
    "adata.obs.head()"
   ]
  },
  {
   "cell_type": "code",
   "execution_count": null,
   "metadata": {
    "hidden": true,
    "scrolled": false
   },
   "outputs": [],
   "source": [
    "df = adata.obs[['n_counts','tissue','disease_status']]\n",
    "ax = sns.catplot(data = df, y='tissue',x='n_counts',hue='disease_status',height=7, aspect=1.5,kind='box')\n",
    "# plt.savefig('TSP3_TSP4_TSP5_tissue_nUMIS.pdf')\n",
    "\n",
    "df = adata.obs[[ 'n_genes','tissue','disease_status']]#,\n",
    "ax = sns.catplot(data = df, y='tissue',x='n_genes',hue= 'disease_status',height=7, aspect=1.5,kind='box')\n",
    "# plt.savefig('TSP3_TSP4_TSP5_tissue_ngenes.pdf')"
   ]
  },
  {
   "cell_type": "code",
   "execution_count": null,
   "metadata": {
    "hidden": true
   },
   "outputs": [],
   "source": [
    "adata_gencode"
   ]
  },
  {
   "cell_type": "markdown",
   "metadata": {},
   "source": [
    "# Load the data gencode-sars-cov-2 alignment"
   ]
  },
  {
   "cell_type": "markdown",
   "metadata": {},
   "source": [
    "List all the data available"
   ]
  },
  {
   "cell_type": "code",
   "execution_count": null,
   "metadata": {},
   "outputs": [],
   "source": [
    "data_path = '/mnt/ibm_lg/angela/covid_tissue_atlas/sn10x/gencode-sars-cov2/'"
   ]
  },
  {
   "cell_type": "code",
   "execution_count": null,
   "metadata": {},
   "outputs": [],
   "source": [
    "import os\n",
    "data_folders = os.listdir(data_path)\n",
    "display(data_folders)\n"
   ]
  },
  {
   "cell_type": "code",
   "execution_count": null,
   "metadata": {
    "scrolled": true
   },
   "outputs": [],
   "source": [
    "adata = sc.AnnData()\n",
    "\n",
    "for d in data_folders:\n",
    "    print(d)\n",
    "    runs = os.listdir(data_path+d)\n",
    "    \n",
    "    for r in runs:\n",
    "\n",
    "        print(r)\n",
    "        adataaux = sc.read_10x_mtx(data_path+d+\"/\"+r+'/filtered_feature_bc_matrix/',cache=True,var_names='gene_ids')\n",
    "        bfcmingenes = adataaux.shape[0]\n",
    "        \n",
    "        print(d+ \" size\")\n",
    "        display(adataaux.shape)\n",
    "\n",
    "        adataaux.obs['10X_run'] = d\n",
    "\n",
    "        try: \n",
    "            adataaux.obs['sample_type'] = d.split('_')[3] \n",
    "            adataaux.obs['disease_status'] = d.split('_')[0]  \n",
    "            adataaux.obs['lab'] = d.split('_')[1]  \n",
    "            adataaux.obs['tissue'] = str.lower(d.split('_')[2])\n",
    "        \n",
    "        except: \n",
    "            adataaux.obs['sample_type'] = d.split('-')[2].split('_')[1] \n",
    "            adataaux.obs['disease_status'] = d.split('-')[0]  \n",
    "            adataaux.obs['lab'] = d.split('-')[1]  \n",
    "            adataaux.obs['tissue'] = str.lower(d.split('-')[2].split('_')[0])\n",
    "\n",
    "\n",
    "        try:\n",
    "            adataaux.obs['replicate'] = d.split('_')[4]\n",
    "        except:\n",
    "            adataaux.obs['replicate'] = 1\n",
    "\n",
    "        try:\n",
    "            adata = adata.concatenate(adataaux,join='outer')\n",
    "            adata.obs = adata.obs.drop('batch',axis=1)\n",
    "        except:\n",
    "            adata = adataaux.copy()\n",
    "\n",
    "adata.obs['sequence_run'] = 'NovaSeq_CZBSeqSub03539'\n",
    "\n",
    "sc.pp.filter_cells(adata, min_genes=0)\n",
    "sc.pp.filter_cells(adata, min_counts=0)\n",
    "sc.pp.filter_genes(adata, min_cells=0)\n",
    "\n",
    "adata.var['ensembl_ids'] = adata.var.index\n",
    "adata.var['gene_symbol'] = [g.split(\"_\")[-1] for g in adata.var['gene_symbols']]\n",
    "adata.var.loc[adata.var.index[-1],'gene_symbol'] = \"sars.cov2.wa1\"\n",
    "adata.var['ensembl_id'] = [g.split(\"_\")[-1] for g in adata.var.index]\n",
    "adata.var.loc[adata.var.index[-1],'ensembl_id'] = \"sars.cov2.wa1\"\n",
    "adata.var = adata.var.set_index('gene_symbol')\n",
    "\n",
    "adata.raw = adata.copy()\n",
    "\n",
    "adata_gencode_sarscov2 = adata.copy()\n",
    "adata_gencode_sarscov2"
   ]
  },
  {
   "cell_type": "code",
   "execution_count": null,
   "metadata": {},
   "outputs": [],
   "source": [
    "adata_gencode_sarscov2"
   ]
  },
  {
   "cell_type": "code",
   "execution_count": null,
   "metadata": {},
   "outputs": [],
   "source": [
    "adata = adata_gencode_sarscov2.copy()"
   ]
  },
  {
   "cell_type": "code",
   "execution_count": null,
   "metadata": {},
   "outputs": [],
   "source": [
    "adata.obs = adata.obs.reset_index().merge(\n",
    "    metadata,left_on='10X_run',right_on='Sample_ID',how='left',left_index=True).set_index('index')"
   ]
  },
  {
   "cell_type": "code",
   "execution_count": null,
   "metadata": {},
   "outputs": [],
   "source": [
    "adata.obs"
   ]
  },
  {
   "cell_type": "code",
   "execution_count": null,
   "metadata": {},
   "outputs": [],
   "source": [
    "adata.var.tail()#.iloc[-1]"
   ]
  },
  {
   "cell_type": "code",
   "execution_count": null,
   "metadata": {},
   "outputs": [],
   "source": [
    "# [g.split(\"_\")[-1] for g in adata.var['gene_symbols']]"
   ]
  },
  {
   "cell_type": "code",
   "execution_count": null,
   "metadata": {},
   "outputs": [],
   "source": [
    "# adata.var['ensembl_ids'] = adata.var.index\n",
    "# adata.var['gene_symbol'] = [g.split(\"_\")[-1] for g in adata.var['gene_symbols']]\n",
    "# adata.var.loc[adata.var.index[-1],'gene_symbol'] = \"sars.cov2.wa1\"\n",
    "# adata.var['ensembl_id'] = [g.split(\"_\")[-1] for g in adata.var.index]\n",
    "# adata.var.loc[adata.var.index[-1],'ensembl_id'] = \"sars.cov2.wa1\"\n",
    "# adata.var.tail()"
   ]
  },
  {
   "cell_type": "code",
   "execution_count": null,
   "metadata": {},
   "outputs": [],
   "source": [
    "adata.var.tail()"
   ]
  },
  {
   "cell_type": "code",
   "execution_count": null,
   "metadata": {},
   "outputs": [],
   "source": [
    "def remove_cats(adata):\n",
    "\n",
    "    cat_columns = adata.obs.select_dtypes(['category']).columns\n",
    "    adata.obs[cat_columns] = adata.obs[cat_columns].astype(str)\n",
    "    \n",
    "    return adata\n",
    "\n",
    "adata = remove_cats(adata)"
   ]
  },
  {
   "cell_type": "code",
   "execution_count": null,
   "metadata": {},
   "outputs": [],
   "source": [
    "adata.obs.groupby(['disease_status','tissue','10X_run']).count()['sequence_run']"
   ]
  },
  {
   "cell_type": "code",
   "execution_count": null,
   "metadata": {},
   "outputs": [],
   "source": [
    "adata.var[adata.var.index.isin([\"ACE2\"])]"
   ]
  },
  {
   "cell_type": "code",
   "execution_count": null,
   "metadata": {},
   "outputs": [],
   "source": [
    "adata.obs.head()"
   ]
  },
  {
   "cell_type": "code",
   "execution_count": null,
   "metadata": {},
   "outputs": [],
   "source": []
  },
  {
   "cell_type": "code",
   "execution_count": null,
   "metadata": {
    "scrolled": true
   },
   "outputs": [],
   "source": [
    "df = adata.obs[['n_counts','tissue','disease_status']]\n",
    "ax = sns.catplot(data = df, y='tissue',x='n_counts',hue='disease_status',height=7, aspect=1.5,kind='box')\n",
    "# plt.savefig('TSP3_TSP4_TSP5_tissue_nUMIS.pdf')\n",
    "\n",
    "df = adata.obs[[ 'n_genes','tissue','disease_status']]#,\n",
    "ax = sns.catplot(data = df, y='tissue',x='n_genes',hue= 'disease_status',height=7, aspect=1.5,kind='box')\n",
    "# plt.savefig('TSP3_TSP4_TSP5_tissue_ngenes.pdf')"
   ]
  },
  {
   "cell_type": "markdown",
   "metadata": {
    "heading_collapsed": true
   },
   "source": [
    "# Load the data GChr38-sars-cov-2 alignment"
   ]
  },
  {
   "cell_type": "markdown",
   "metadata": {
    "hidden": true
   },
   "source": [
    "List all the data available"
   ]
  },
  {
   "cell_type": "code",
   "execution_count": null,
   "metadata": {
    "hidden": true
   },
   "outputs": [],
   "source": [
    "data_path = '/mnt/ibm_lg/angela/covid_tissue_atlas/sn10x/gchr38-sars-cov2/'"
   ]
  },
  {
   "cell_type": "code",
   "execution_count": null,
   "metadata": {
    "hidden": true
   },
   "outputs": [],
   "source": [
    "import os\n",
    "data_folders = os.listdir(data_path)\n",
    "display(data_folders)\n"
   ]
  },
  {
   "cell_type": "code",
   "execution_count": null,
   "metadata": {
    "hidden": true,
    "scrolled": true
   },
   "outputs": [],
   "source": [
    "adata = sc.AnnData()\n",
    "\n",
    "for d in data_folders:\n",
    "    print(d)\n",
    "    runs = os.listdir(data_path+d)\n",
    "    \n",
    "    for r in runs:\n",
    "\n",
    "        print(r)\n",
    "        adataaux = sc.read_10x_mtx(data_path+d+\"/\"+r+'/filtered_feature_bc_matrix/',cache=True,var_names='gene_ids')\n",
    "        bfcmingenes = adataaux.shape[0]\n",
    "#         sc.pp.filter_cells(adataaux, min_genes=200)\n",
    "#         sc.pp.filter_cells(adataaux, min_counts=2500)\n",
    "\n",
    "#         sc.pp.filter_cells(adataaux, min_genes=1)\n",
    "#         sc.pp.filter_cells(adataaux, min_counts=1)\n",
    "#         sc.pp.filter_genes(adataaux, min_cells=0)\n",
    "\n",
    "\n",
    "        print(d+ \" size\")\n",
    "        display(adataaux.shape)\n",
    "\n",
    "        adataaux.obs['10X_run'] = d\n",
    "\n",
    "        try: \n",
    "            adataaux.obs['sample_type'] = d.split('_')[3] \n",
    "            adataaux.obs['disease_status'] = d.split('_')[0]  \n",
    "            adataaux.obs['lab'] = d.split('_')[1]  \n",
    "            adataaux.obs['tissue'] = str.lower(d.split('_')[2])\n",
    "        \n",
    "        except: \n",
    "            adataaux.obs['sample_type'] = d.split('-')[2].split('_')[1] \n",
    "            adataaux.obs['disease_status'] = d.split('-')[0]  \n",
    "            adataaux.obs['lab'] = d.split('-')[1]  \n",
    "            adataaux.obs['tissue'] = str.lower(d.split('-')[2].split('_')[0])\n",
    "\n",
    "\n",
    "        try:\n",
    "            adataaux.obs['replicate'] = d.split('_')[4]\n",
    "        except:\n",
    "            adataaux.obs['replicate'] = 1\n",
    "\n",
    "        try:\n",
    "            adata = adata.concatenate(adataaux,join='outer')\n",
    "            adata.obs = adata.obs.drop('batch',axis=1)\n",
    "        except:\n",
    "            adata = adataaux.copy()\n",
    "\n",
    "# adata.obs['sex'] = 'female'\n",
    "adata.obs['sequence_run'] = 'NovaSeq_CZBSeqSub03539'\n",
    "# adata.write(\"/mnt/ibm_lg/angela/-min_genes_200-min_reads_2500.h5ad\")\n",
    "adata.raw = adata.copy()\n",
    "\n",
    "sc.pp.filter_cells(adata, min_genes=0)\n",
    "sc.pp.filter_cells(adata, min_counts=0)\n",
    "sc.pp.filter_genes(adata, min_cells=0)\n",
    "\n",
    "adata_gchr38_sarscov2 = adata.copy()\n",
    "# adata_gchr38_sarscov2.write(\n",
    "#     \"/mnt/ibm_lg/angela/covid_tissue_atlas/sn10x/gchr38-sars-cov2/covid19ta_GRCh38_cellranger-filtered.h5ad\")\n",
    "\n",
    "adata_gchr38_sarscov2"
   ]
  },
  {
   "cell_type": "code",
   "execution_count": null,
   "metadata": {
    "hidden": true
   },
   "outputs": [],
   "source": [
    "59270 - 49363"
   ]
  },
  {
   "cell_type": "code",
   "execution_count": null,
   "metadata": {
    "hidden": true
   },
   "outputs": [],
   "source": [
    "adata.var[adata.var['gene_symbols'].isin([\"ACE2\"])]"
   ]
  },
  {
   "cell_type": "code",
   "execution_count": null,
   "metadata": {
    "hidden": true
   },
   "outputs": [],
   "source": []
  },
  {
   "cell_type": "code",
   "execution_count": null,
   "metadata": {
    "hidden": true
   },
   "outputs": [],
   "source": [
    "adata.var.tail(15)"
   ]
  },
  {
   "cell_type": "code",
   "execution_count": null,
   "metadata": {
    "hidden": true
   },
   "outputs": [],
   "source": [
    "sars_genes = adata_gchr38_sarscov2.var_names.str.startswith('SARS2')\n",
    "# adata_merge.obs['percent_SARS'] = \n",
    "sum(np.sum(adata_gchr38_sarscov2[:, sars_genes].X, axis=1).A1 / np.sum(adata_gchr38_sarscov2.X, axis=1).A1)"
   ]
  },
  {
   "cell_type": "code",
   "execution_count": null,
   "metadata": {
    "hidden": true
   },
   "outputs": [],
   "source": [
    "def remove_cats(adata):\n",
    "\n",
    "    cat_columns = adata.obs.select_dtypes(['category']).columns\n",
    "    adata.obs[cat_columns] = adata.obs[cat_columns].astype(str)\n",
    "    \n",
    "    return adata\n",
    "\n",
    "adata_gchr38_sarscov2 = remove_cats(adata_gchr38_sarscov2)"
   ]
  },
  {
   "cell_type": "code",
   "execution_count": null,
   "metadata": {
    "hidden": true
   },
   "outputs": [],
   "source": [
    "adata_gchr38_sarscov2.obs.groupby(['tissue','disease_status','10X_run']).count()['sequence_run']"
   ]
  },
  {
   "cell_type": "code",
   "execution_count": null,
   "metadata": {
    "hidden": true
   },
   "outputs": [],
   "source": [
    "adata_gchr38_sarscov2.var.head()"
   ]
  },
  {
   "cell_type": "code",
   "execution_count": null,
   "metadata": {
    "hidden": true
   },
   "outputs": [],
   "source": [
    "adata_gchr38_sarscov2.var.tail(15)"
   ]
  },
  {
   "cell_type": "code",
   "execution_count": null,
   "metadata": {
    "hidden": true
   },
   "outputs": [],
   "source": [
    "adata_gchr38_sarscov2.obs.head()"
   ]
  },
  {
   "cell_type": "code",
   "execution_count": null,
   "metadata": {
    "hidden": true
   },
   "outputs": [],
   "source": [
    "adata_gchr38_sarscov2.obs.head()"
   ]
  },
  {
   "cell_type": "code",
   "execution_count": null,
   "metadata": {
    "hidden": true,
    "scrolled": false
   },
   "outputs": [],
   "source": [
    "df = adata_gchr38_sarscov2.obs[['n_counts','tissue','disease_status']]\n",
    "ax = sns.catplot(data = df, y='tissue',x='n_counts',hue='disease_status',height=7, aspect=1.5,kind='box')\n",
    "# plt.savefig('TSP3_TSP4_TSP5_tissue_nUMIS.pdf')\n",
    "\n",
    "df = adata_gchr38_sarscov2.obs[[ 'n_genes','tissue','disease_status']]#,\n",
    "ax = sns.catplot(data = df, y='tissue',x='n_genes',hue= 'disease_status',height=7, aspect=1.5,kind='box')\n",
    "# plt.savefig('TSP3_TSP4_TSP5_tissue_ngenes.pdf')"
   ]
  },
  {
   "cell_type": "markdown",
   "metadata": {},
   "source": [
    "# Lazy filter the data"
   ]
  },
  {
   "cell_type": "code",
   "execution_count": null,
   "metadata": {},
   "outputs": [],
   "source": [
    "# path = '/mnt/ibm_lg/angela/sapiens/'"
   ]
  },
  {
   "cell_type": "code",
   "execution_count": null,
   "metadata": {},
   "outputs": [],
   "source": [
    "# import scanpy as sc"
   ]
  },
  {
   "cell_type": "code",
   "execution_count": null,
   "metadata": {},
   "outputs": [],
   "source": [
    "# tsp345 = adata.copy()"
   ]
  },
  {
   "cell_type": "code",
   "execution_count": null,
   "metadata": {},
   "outputs": [],
   "source": [
    "# adata = sc.read_h5ad(\n",
    "#     \"/mnt/ibm_lg/angela/sapiens/data/TSP3_TSP4_TSP5-10X-novaseq_rerun-nextseq-min_genes_200-min_reads_2500.h5ad\")\n",
    "# adata"
   ]
  },
  {
   "cell_type": "code",
   "execution_count": null,
   "metadata": {},
   "outputs": [],
   "source": [
    "adata = adata_gchr38_sarscov2.copy()"
   ]
  },
  {
   "cell_type": "code",
   "execution_count": null,
   "metadata": {},
   "outputs": [],
   "source": [
    "adata.raw.X"
   ]
  },
  {
   "cell_type": "code",
   "execution_count": null,
   "metadata": {},
   "outputs": [],
   "source": [
    "set(adata.obs['tissue'])"
   ]
  },
  {
   "cell_type": "code",
   "execution_count": null,
   "metadata": {},
   "outputs": [],
   "source": [
    "adata.raw.var.head()"
   ]
  },
  {
   "cell_type": "code",
   "execution_count": null,
   "metadata": {
    "scrolled": false
   },
   "outputs": [],
   "source": [
    "adata.X = adata.raw.X.copy()\n",
    "print('normalization & scaling')\n",
    "sc.pp.normalize_per_cell(adata, counts_per_cell_after=1e4)\n",
    "adata = sc.pp.filter_genes_dispersion(adata, subset = False, min_disp=.5, max_disp=None, \n",
    "                          min_mean=.0125, max_mean=10, n_bins=20, n_top_genes=None, \n",
    "                          log=True, copy=True)\n",
    "sc.pp.log1p(adata)\n",
    "sc.pp.scale(adata, max_value=10, zero_center=False)\n",
    "# adata.uns['adataue_colors'] = list(adataue_color_dict.values())\n",
    "\n",
    "\n",
    "print('pca')\n",
    "sc.tl.pca(adata,svd_solver='arpack')\n",
    "sc.pl.pca_overview(adata)\n",
    "\n",
    "\n",
    "print('neighs')\n",
    "sc.pp.neighbors(adata)\n",
    "# sc.external.pp.bbknn(adata, \n",
    "#                       batch_key='tissue', \n",
    "#                       approx=True, metric='angular',\n",
    "#                       n_pcs=50, trim=None, n_trees=10, \n",
    "#                       use_faiss=True, set_op_mix_ratio=1.0, local_connectivity=1)\n",
    "\n",
    "print('umap computing')\n",
    "sc.tl.umap(adata,n_components=2)\n",
    "# adata.obs['adataue_FACS_droplet'] = adata.obs['adataue'].copy()\n",
    "# adata.obs.loc[adata.obs['adataue'] == 'Heart_and_Aorta','adataue'] = 'Heart'\n",
    "adata.obs['tissue'] = adata.obs['tissue'].astype(str)\n",
    "# adata.uns['age_colors'] = list(age_color_dict.values())\n",
    "# adata.uns['adataue_colors'] = list(adataue_color_dict.values())\n",
    "# adata.uns['method_colors'] = list(methods_color_dict.values())\n",
    "sc.pl.umap(adata,color='tissue',save='_covid19ta_tissue.pdf')\n",
    "sc.pl.umap(adata,color='disease_status',save='_covid19ta_disease_status.pdf')\n",
    "sc.pl.umap(adata,color='lab')#,projection='3d', save='_maca_facs_3d_age.pdf')\n",
    "\n",
    "print('clustering')\n",
    "sc.tl.louvain(adata)#, resolution = 5)\n",
    "sc.tl.leiden(adata)#, resolution = 5)\n",
    "\n",
    "sc.pl.umap(adata,color=['louvain'], legend_loc='on data')\n",
    "\n",
    "# adata.write(\"/mnt/ibm_lg/angela/sapiens/data/TSP3_TSP4_TSP5-10X-min_genes_200-min_reads_2500-cellxgene.h5ad\")"
   ]
  },
  {
   "cell_type": "code",
   "execution_count": null,
   "metadata": {},
   "outputs": [],
   "source": [
    "adata_gchr38_sarscov2.obs.groupby(['tissue','disease_status']).count()#['sequence_run']"
   ]
  },
  {
   "cell_type": "code",
   "execution_count": null,
   "metadata": {},
   "outputs": [],
   "source": [
    "sc.pl.umap(adata,color='tissue')#,projection='3d',save='_maca_facs_3d_adataue.pdf')\n",
    "sc.pl.umap(adata,color='disease_status')#,projection='3d',save='_maca_facs_3d_adataue.pdf')\n",
    "sc.pl.umap(adata,color='lab')"
   ]
  },
  {
   "cell_type": "code",
   "execution_count": null,
   "metadata": {},
   "outputs": [],
   "source": [
    "adata.var_names[adata.var_names.str.startswith('ACE')]"
   ]
  },
  {
   "cell_type": "code",
   "execution_count": null,
   "metadata": {},
   "outputs": [],
   "source": [
    "sc.pl.umap(adata,color=['ACE2','PTPRC','ALB'],cmap='Oranges')"
   ]
  },
  {
   "cell_type": "code",
   "execution_count": null,
   "metadata": {},
   "outputs": [],
   "source": []
  },
  {
   "cell_type": "code",
   "execution_count": null,
   "metadata": {},
   "outputs": [],
   "source": []
  },
  {
   "cell_type": "code",
   "execution_count": null,
   "metadata": {},
   "outputs": [],
   "source": [
    "sc.pl.umap(adata,color='tissue')#,projection='3d',save='_maca_facs_3d_adataue.pdf')\n",
    "sc.pl.umap(adata,color='disease_status')#,projection='3d',save='_maca_facs_3d_adataue.pdf')\n",
    "sc.pl.umap(adata,color='lab')"
   ]
  },
  {
   "cell_type": "code",
   "execution_count": null,
   "metadata": {},
   "outputs": [],
   "source": [
    "sc.pl.umap(adata[adata.obs['tissue']=='liver'],color='disease_status')"
   ]
  },
  {
   "cell_type": "code",
   "execution_count": null,
   "metadata": {},
   "outputs": [],
   "source": []
  },
  {
   "cell_type": "code",
   "execution_count": null,
   "metadata": {},
   "outputs": [],
   "source": []
  },
  {
   "cell_type": "code",
   "execution_count": null,
   "metadata": {},
   "outputs": [],
   "source": []
  },
  {
   "cell_type": "code",
   "execution_count": null,
   "metadata": {},
   "outputs": [],
   "source": [
    "kidney = adata[adata.obs['tissue']=='Heart'].copy()\n",
    "kidney"
   ]
  },
  {
   "cell_type": "code",
   "execution_count": null,
   "metadata": {
    "scrolled": true
   },
   "outputs": [],
   "source": [
    "sc.pl.highest_expr_genes(kidney, n_top=20)\n"
   ]
  },
  {
   "cell_type": "code",
   "execution_count": null,
   "metadata": {},
   "outputs": [],
   "source": [
    "mito_genes = kidney.var_names.str.startswith('MT-')\n",
    "kidney.obs['percent_mito'] = np.sum(\n",
    "    kidney[:, mito_genes].X, axis=1).A1 / np.sum(kidney.X, axis=1).A1"
   ]
  },
  {
   "cell_type": "code",
   "execution_count": null,
   "metadata": {},
   "outputs": [],
   "source": [
    "sc.pl.violin(kidney, ['n_genes', 'n_counts', 'percent_mito'],\n",
    "             jitter=0.4, multi_panel=True)"
   ]
  },
  {
   "cell_type": "markdown",
   "metadata": {},
   "source": [
    "Filter out cells with less than 200 genes detected and genes expressed in less than 3 cells"
   ]
  },
  {
   "cell_type": "code",
   "execution_count": null,
   "metadata": {},
   "outputs": [],
   "source": [
    "sc.pl.scatter(kidney, x='n_counts', y='percent_mito')\n",
    "sc.pl.scatter(kidney, x='n_counts', y='n_genes')"
   ]
  },
  {
   "cell_type": "code",
   "execution_count": null,
   "metadata": {},
   "outputs": [],
   "source": [
    "kidney.obs"
   ]
  },
  {
   "cell_type": "code",
   "execution_count": null,
   "metadata": {},
   "outputs": [],
   "source": [
    "df = kidney.obs.copy()\n",
    "df['tissue'] = df['tissue'].astype(str)\n",
    "df['subtissue'] = df['subtissue'].astype(str)\n",
    "df = pd.DataFrame(df.groupby(['tissue','subtissue','sample','replicate'])['pilot'].count())\n",
    "df = df.rename({'pilot':'n_cells'},axis=1)\n",
    "df = df.reset_index()\n",
    "ax = sns.swarmplot(data = df,y='tissue',x='n_cells')#,kind='swarm')\n",
    "ax = sns.barplot(data = df,y='tissue',x='n_cells')#,kind='bar')"
   ]
  },
  {
   "cell_type": "code",
   "execution_count": null,
   "metadata": {},
   "outputs": [],
   "source": []
  },
  {
   "cell_type": "code",
   "execution_count": null,
   "metadata": {},
   "outputs": [],
   "source": [
    "sc.pp.filter_cells(kidney, min_genes=200)\n",
    "sc.pp.filter_cells(kidney, min_counts=2500)\n",
    "sc.pp.filter_genes(kidney, min_cells=1)\n"
   ]
  },
  {
   "cell_type": "code",
   "execution_count": null,
   "metadata": {},
   "outputs": [],
   "source": [
    "kidney"
   ]
  },
  {
   "cell_type": "code",
   "execution_count": null,
   "metadata": {},
   "outputs": [],
   "source": []
  },
  {
   "cell_type": "code",
   "execution_count": null,
   "metadata": {},
   "outputs": [],
   "source": []
  },
  {
   "cell_type": "code",
   "execution_count": null,
   "metadata": {},
   "outputs": [],
   "source": []
  }
 ],
 "metadata": {
  "kernelspec": {
   "display_name": "Python 3",
   "language": "python",
   "name": "python3"
  },
  "language_info": {
   "codemirror_mode": {
    "name": "ipython",
    "version": 3
   },
   "file_extension": ".py",
   "mimetype": "text/x-python",
   "name": "python",
   "nbconvert_exporter": "python",
   "pygments_lexer": "ipython3",
   "version": "3.7.4"
  },
  "toc": {
   "base_numbering": 1,
   "nav_menu": {},
   "number_sections": true,
   "sideBar": true,
   "skip_h1_title": false,
   "title_cell": "Table of Contents",
   "title_sidebar": "Contents",
   "toc_cell": false,
   "toc_position": {
    "height": "calc(100% - 180px)",
    "left": "10px",
    "top": "150px",
    "width": "300.104px"
   },
   "toc_section_display": true,
   "toc_window_display": true
  }
 },
 "nbformat": 4,
 "nbformat_minor": 4
}
